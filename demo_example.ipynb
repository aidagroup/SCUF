{
 "cells": [
  {
   "cell_type": "markdown",
   "metadata": {},
   "source": [
    "### Example 1 - quick usage "
   ]
  },
  {
   "cell_type": "code",
   "execution_count": null,
   "metadata": {},
   "outputs": [],
   "source": [
    "import numpy as np\n",
    "\n",
    "from scuf import RANSAC\n",
    "\n",
    "#loading point cloud in numpy form\n",
    "points = np.load(\"data/example.npy\")\n",
    "\n",
    "#using ransac class\n",
    "IS = RANSAC(figure = \"ellipsoid\")\n",
    "result = IS.fit(points)\n",
    "\n",
    "print(\"polynom\", result[0])\n",
    "print(\"center\", result[1][0])\n",
    "print(\"semiaxis\", result[1][1])\n",
    "print(\"rotation matrix\", result[1][2])\n"
   ]
  },
  {
   "cell_type": "markdown",
   "metadata": {},
   "source": [
    "### Example 2 - with visualization\n",
    "open3d needs to be installed"
   ]
  },
  {
   "cell_type": "code",
   "execution_count": null,
   "metadata": {},
   "outputs": [],
   "source": [
    "import numpy as np\n",
    "import open3d as o3d\n",
    "\n",
    "from scuf import RANSAC\n",
    "from scuf.vis import plot\n",
    "\n",
    "\n",
    "#loading point cloud\n",
    "pcd = o3d.io.read_point_cloud(\"data/2.ply\")\n",
    "o3d.visualization.draw_geometries([pcd])\n",
    "\n",
    "points = np.asarray(pcd.points)\n",
    "\n",
    "#using ransac class\n",
    "IS = RANSAC(figure = \"ellipsoid\")\n",
    "result = IS.fit(points)\n",
    "\n",
    "#drawing results as points on ellispod for visualization\n",
    "predict = plot(result)\n",
    "\n",
    "\n",
    "o3d.visualization.draw_geometries([pcd, predict])\n"
   ]
  },
  {
   "cell_type": "markdown",
   "metadata": {},
   "source": [
    "### Example 3 - with visualization"
   ]
  },
  {
   "cell_type": "code",
   "execution_count": null,
   "metadata": {},
   "outputs": [],
   "source": [
    "pcd = o3d.io.read_point_cloud(\"data/1.ply\")\n",
    "o3d.visualization.draw_geometries([pcd])\n",
    "\n",
    "points = np.asarray(pcd.points)\n",
    "\n",
    "#figure restrictions\n",
    "xmin, ymin, zmin = np.min(points, axis=0)\n",
    "xmax, ymax, zmax = np.max(points, axis=0)\n",
    "confines = np.abs([xmax - xmin, ymax - ymin, zmax - zmin])\n",
    "\n",
    "k = np.max(confines) #linear size restriction for semiaxis\n",
    "h = 2 #ratio restriction for semiaxis \n",
    "\n",
    "iterations = 3000 #number of sampling iterations\n",
    "threshold = 0.001 #threshold for inliers counting\n",
    "params = [k, h]\n",
    "method = \"count\"\n",
    "\n",
    "#using ransac class\n",
    "IS = RANSAC(figure = \"ellipsoid\")\n",
    "res = IS.fit(points, iterations = iterations, threshold = threshold, params = params, method = method)\n",
    "\n",
    "#drawing results as points on ellispod for visualization\n",
    "predict = plot(result)\n",
    "\n",
    "o3d.visualization.draw_geometries([pcd, predict])\n"
   ]
  }
 ],
 "metadata": {
  "kernelspec": {
   "display_name": "Python 3",
   "language": "python",
   "name": "python3"
  },
  "language_info": {
   "codemirror_mode": {
    "name": "ipython",
    "version": 3
   },
   "file_extension": ".py",
   "mimetype": "text/x-python",
   "name": "python",
   "nbconvert_exporter": "python",
   "pygments_lexer": "ipython3",
   "version": "3.12.2"
  },
  "orig_nbformat": 4,
  "vscode": {
   "interpreter": {
    "hash": "916dbcbb3f70747c44a77c7bcd40155683ae19c65e1c03b4aa3499c5328201f1"
   }
  }
 },
 "nbformat": 4,
 "nbformat_minor": 2
}
