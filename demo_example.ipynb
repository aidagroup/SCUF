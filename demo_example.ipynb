{
 "cells": [
  {
   "cell_type": "markdown",
   "metadata": {},
   "source": [
    "### Example 1 - quick usage "
   ]
  },
  {
   "cell_type": "code",
   "execution_count": null,
   "metadata": {},
   "outputs": [
    {
     "name": "stdout",
     "output_type": "stream",
     "text": [
      "polynom [-0.53235759 -0.5121237  -0.44232419  0.14561437 -0.02781026  0.12726288\n",
      "  0.74567618  0.86028153 -0.64122943  1.        ]\n",
      "center [ 2.  2. -1.]\n",
      "semiaxis [2.  2.5 3. ]\n",
      "rotation matrix [[-0.61360105  0.68861426  0.38639895]\n",
      " [ 0.68861426  0.22720209  0.68861426]\n",
      " [-0.38639895 -0.68861426  0.61360105]]\n"
     ]
    }
   ],
   "source": [
    "import numpy as np\n",
    "\n",
    "from scuf.ransac import RANSAC\n",
    "\n",
    "#loading point cloud in numpy form\n",
    "points = np.load(\"data/example.npy\")\n",
    "\n",
    "#using ransac class\n",
    "IS = RANSAC(figure = \"ellipsoid\")\n",
    "result = IS.fit(points)\n",
    "\n",
    "print(\"polynom\", result[0])\n",
    "print(\"center\", result[1][0])\n",
    "print(\"semiaxis\", result[1][1])\n",
    "print(\"rotation matrix\", result[1][2])\n"
   ]
  },
  {
   "cell_type": "markdown",
   "metadata": {},
   "source": [
    "### Example 2 - with visualization\n",
    "open3d needs to be installed"
   ]
  },
  {
   "cell_type": "code",
   "execution_count": 5,
   "metadata": {},
   "outputs": [],
   "source": [
    "import numpy as np\n",
    "import open3d as o3d\n",
    "\n",
    "from scuf.ransac import RANSAC\n",
    "from scuf.vis import plot\n",
    "\n",
    "\n",
    "#loading point cloud\n",
    "pcd = o3d.io.read_point_cloud(\"data/2.ply\")\n",
    "o3d.visualization.draw_geometries([pcd])\n",
    "\n",
    "points = np.asarray(pcd.points)\n",
    "\n",
    "#using ransac class\n",
    "IS = RANSAC(figure = \"ellipsoid\")\n",
    "result = IS.fit(points)\n",
    "\n",
    "#drawing results as points on ellispod for visualization\n",
    "predict = plot(result)\n",
    "\n",
    "\n",
    "o3d.visualization.draw_geometries([pcd, predict])\n"
   ]
  },
  {
   "cell_type": "markdown",
   "metadata": {},
   "source": [
    "### Example 3 - with visualization"
   ]
  },
  {
   "cell_type": "code",
   "execution_count": 13,
   "metadata": {},
   "outputs": [],
   "source": [
    "pcd = o3d.io.read_point_cloud(\"data/1.ply\")\n",
    "o3d.visualization.draw_geometries([pcd])\n",
    "\n",
    "points = np.asarray(pcd.points)\n",
    "\n",
    "#figure restrictions\n",
    "xmin, ymin, zmin = np.min(points, axis=0)\n",
    "xmax, ymax, zmax = np.max(points, axis=0)\n",
    "confines = np.abs([xmax - xmin, ymax - ymin, zmax - zmin])\n",
    "\n",
    "k = np.max(confines) #linear size restriction for semiaxis\n",
    "h = 2 #ratio restriction for semiaxis \n",
    "\n",
    "iterations = 3000 #number of sampling iterations\n",
    "threshold = 0.001 #threshold for inliers counting\n",
    "params = [k, h]\n",
    "method = \"count\"\n",
    "\n",
    "#using ransac class\n",
    "IS = RANSAC(figure = \"ellipsoid\")\n",
    "res = IS.fit(points, iterations = iterations, threshold = threshold, params = params, method = method)\n",
    "\n",
    "#drawing results as points on ellispod for visualization\n",
    "predict = plot(result)\n",
    "\n",
    "o3d.visualization.draw_geometries([pcd, predict])\n"
   ]
  },
  {
   "cell_type": "code",
   "execution_count": 2,
   "metadata": {},
   "outputs": [
    {
     "name": "stdout",
     "output_type": "stream",
     "text": [
      "* Creating isolated environment: venv+pip...\n",
      "* Installing packages in isolated environment:\n",
      "  - setuptools>=61.0\n",
      "  - wheel\n",
      "* Getting build dependencies for sdist...\n",
      "running egg_info\n",
      "creating scuf\\scuf.egg-info\n",
      "writing scuf\\scuf.egg-info\\PKG-INFO\n",
      "writing dependency_links to scuf\\scuf.egg-info\\dependency_links.txt\n",
      "writing requirements to scuf\\scuf.egg-info\\requires.txt\n",
      "writing top-level names to scuf\\scuf.egg-info\\top_level.txt\n",
      "writing manifest file 'scuf\\scuf.egg-info\\SOURCES.txt'\n",
      "reading manifest file 'scuf\\scuf.egg-info\\SOURCES.txt'\n",
      "adding license file 'LICENSE'\n",
      "writing manifest file 'scuf\\scuf.egg-info\\SOURCES.txt'\n",
      "* Building sdist...\n",
      "running sdist\n",
      "running egg_info\n",
      "writing scuf\\scuf.egg-info\\PKG-INFO\n",
      "writing dependency_links to scuf\\scuf.egg-info\\dependency_links.txt\n",
      "writing requirements to scuf\\scuf.egg-info\\requires.txt\n",
      "writing top-level names to scuf\\scuf.egg-info\\top_level.txt\n",
      "reading manifest file 'scuf\\scuf.egg-info\\SOURCES.txt'\n",
      "adding license file 'LICENSE'\n",
      "writing manifest file 'scuf\\scuf.egg-info\\SOURCES.txt'\n",
      "running check\n",
      "creating scuf-0.1.0\n",
      "creating scuf-0.1.0\\scuf\\scuf.egg-info\n",
      "copying files to scuf-0.1.0...\n",
      "copying LICENSE -> scuf-0.1.0\n",
      "copying README.md -> scuf-0.1.0\n",
      "copying pyproject.toml -> scuf-0.1.0\n",
      "copying scuf\\scuf.egg-info\\PKG-INFO -> scuf-0.1.0\\scuf\\scuf.egg-info\n",
      "copying scuf\\scuf.egg-info\\SOURCES.txt -> scuf-0.1.0\\scuf\\scuf.egg-info\n",
      "copying scuf\\scuf.egg-info\\dependency_links.txt -> scuf-0.1.0\\scuf\\scuf.egg-info\n",
      "copying scuf\\scuf.egg-info\\requires.txt -> scuf-0.1.0\\scuf\\scuf.egg-info\n",
      "copying scuf\\scuf.egg-info\\top_level.txt -> scuf-0.1.0\\scuf\\scuf.egg-info\n",
      "copying scuf\\scuf.egg-info\\SOURCES.txt -> scuf-0.1.0\\scuf\\scuf.egg-info\n",
      "Writing scuf-0.1.0\\setup.cfg\n",
      "Creating tar archive\n",
      "removing 'scuf-0.1.0' (and everything under it)\n",
      "* Building wheel from sdist\n",
      "* Creating isolated environment: venv+pip...\n",
      "* Installing packages in isolated environment:\n",
      "  - setuptools>=61.0\n",
      "  - wheel\n",
      "* Getting build dependencies for wheel...\n",
      "running egg_info\n",
      "writing scuf\\scuf.egg-info\\PKG-INFO\n",
      "writing dependency_links to scuf\\scuf.egg-info\\dependency_links.txt\n",
      "writing requirements to scuf\\scuf.egg-info\\requires.txt\n",
      "writing top-level names to scuf\\scuf.egg-info\\top_level.txt\n",
      "reading manifest file 'scuf\\scuf.egg-info\\SOURCES.txt'\n",
      "adding license file 'LICENSE'\n",
      "writing manifest file 'scuf\\scuf.egg-info\\SOURCES.txt'\n",
      "* Building wheel...\n",
      "running bdist_wheel\n",
      "running build\n",
      "installing to build\\bdist.win-amd64\\wheel\n",
      "running install\n",
      "running install_egg_info\n",
      "running egg_info\n",
      "writing scuf\\scuf.egg-info\\PKG-INFO\n",
      "writing dependency_links to scuf\\scuf.egg-info\\dependency_links.txt\n",
      "writing requirements to scuf\\scuf.egg-info\\requires.txt\n",
      "writing top-level names to scuf\\scuf.egg-info\\top_level.txt\n",
      "reading manifest file 'scuf\\scuf.egg-info\\SOURCES.txt'\n",
      "adding license file 'LICENSE'\n",
      "writing manifest file 'scuf\\scuf.egg-info\\SOURCES.txt'\n",
      "Copying scuf\\scuf.egg-info to build\\bdist.win-amd64\\wheel\\.\\scuf-0.1.0-py3.11.egg-info\n",
      "running install_scripts\n",
      "creating build\\bdist.win-amd64\\wheel\\scuf-0.1.0.dist-info\\WHEEL\n",
      "creating 'c:\\Users\\ris20\\Documents\\GitHub\\SCUF\\dist\\.tmp-d06e9src\\scuf-0.1.0-py3-none-any.whl' and adding 'build\\bdist.win-amd64\\wheel' to it\n",
      "adding 'scuf-0.1.0.dist-info/LICENSE'\n",
      "adding 'scuf-0.1.0.dist-info/METADATA'\n",
      "adding 'scuf-0.1.0.dist-info/WHEEL'\n",
      "adding 'scuf-0.1.0.dist-info/top_level.txt'\n",
      "adding 'scuf-0.1.0.dist-info/RECORD'\n",
      "removing build\\bdist.win-amd64\\wheel\n",
      "Successfully built scuf-0.1.0.tar.gz and scuf-0.1.0-py3-none-any.whl\n"
     ]
    }
   ],
   "source": [
    "!python3 -m build"
   ]
  },
  {
   "cell_type": "code",
   "execution_count": 5,
   "metadata": {},
   "outputs": [
    {
     "name": "stdout",
     "output_type": "stream",
     "text": [
      "^C\n"
     ]
    }
   ],
   "source": [
    "!python3 -m twine upload --repository testpypi dist/*\n",
    "\n"
   ]
  },
  {
   "cell_type": "code",
   "execution_count": 4,
   "metadata": {},
   "outputs": [
    {
     "name": "stdout",
     "output_type": "stream",
     "text": [
      "Collecting twine\n",
      "  Downloading twine-6.1.0-py3-none-any.whl.metadata (3.7 kB)\n",
      "Collecting readme-renderer>=35.0 (from twine)\n",
      "  Downloading readme_renderer-44.0-py3-none-any.whl.metadata (2.8 kB)\n",
      "Collecting requests>=2.20 (from twine)\n",
      "  Using cached requests-2.32.3-py3-none-any.whl.metadata (4.6 kB)\n",
      "Collecting requests-toolbelt!=0.9.0,>=0.8.0 (from twine)\n",
      "  Downloading requests_toolbelt-1.0.0-py2.py3-none-any.whl.metadata (14 kB)\n",
      "Collecting urllib3>=1.26.0 (from twine)\n",
      "  Using cached urllib3-2.3.0-py3-none-any.whl.metadata (6.5 kB)\n",
      "Collecting keyring>=15.1 (from twine)\n",
      "  Downloading keyring-25.6.0-py3-none-any.whl.metadata (20 kB)\n",
      "Collecting rfc3986>=1.4.0 (from twine)\n",
      "  Downloading rfc3986-2.0.0-py2.py3-none-any.whl.metadata (6.6 kB)\n",
      "Collecting rich>=12.0.0 (from twine)\n",
      "  Downloading rich-13.9.4-py3-none-any.whl.metadata (18 kB)\n",
      "Requirement already satisfied: packaging>=24.0 in c:\\users\\ris20\\appdata\\local\\packages\\pythonsoftwarefoundation.python.3.11_qbz5n2kfra8p0\\localcache\\local-packages\\python311\\site-packages (from twine) (24.2)\n",
      "Collecting id (from twine)\n",
      "  Downloading id-1.5.0-py3-none-any.whl.metadata (5.2 kB)\n",
      "Collecting pywin32-ctypes>=0.2.0 (from keyring>=15.1->twine)\n",
      "  Downloading pywin32_ctypes-0.2.3-py3-none-any.whl.metadata (3.9 kB)\n",
      "Collecting importlib_metadata>=4.11.4 (from keyring>=15.1->twine)\n",
      "  Using cached importlib_metadata-8.6.1-py3-none-any.whl.metadata (4.7 kB)\n",
      "Collecting jaraco.classes (from keyring>=15.1->twine)\n",
      "  Downloading jaraco.classes-3.4.0-py3-none-any.whl.metadata (2.6 kB)\n",
      "Collecting jaraco.functools (from keyring>=15.1->twine)\n",
      "  Downloading jaraco.functools-4.1.0-py3-none-any.whl.metadata (2.9 kB)\n",
      "Collecting jaraco.context (from keyring>=15.1->twine)\n",
      "  Downloading jaraco.context-6.0.1-py3-none-any.whl.metadata (4.1 kB)\n",
      "Collecting nh3>=0.2.14 (from readme-renderer>=35.0->twine)\n",
      "  Downloading nh3-0.2.20-cp38-abi3-win_amd64.whl.metadata (2.1 kB)\n",
      "Collecting docutils>=0.21.2 (from readme-renderer>=35.0->twine)\n",
      "  Downloading docutils-0.21.2-py3-none-any.whl.metadata (2.8 kB)\n",
      "Collecting Pygments>=2.5.1 (from readme-renderer>=35.0->twine)\n",
      "  Downloading pygments-2.19.1-py3-none-any.whl.metadata (2.5 kB)\n",
      "Collecting charset-normalizer<4,>=2 (from requests>=2.20->twine)\n",
      "  Downloading charset_normalizer-3.4.1-cp311-cp311-win_amd64.whl.metadata (36 kB)\n",
      "Collecting idna<4,>=2.5 (from requests>=2.20->twine)\n",
      "  Using cached idna-3.10-py3-none-any.whl.metadata (10 kB)\n",
      "Collecting certifi>=2017.4.17 (from requests>=2.20->twine)\n",
      "  Using cached certifi-2025.1.31-py3-none-any.whl.metadata (2.5 kB)\n",
      "Collecting markdown-it-py>=2.2.0 (from rich>=12.0.0->twine)\n",
      "  Downloading markdown_it_py-3.0.0-py3-none-any.whl.metadata (6.9 kB)\n",
      "Collecting zipp>=3.20 (from importlib_metadata>=4.11.4->keyring>=15.1->twine)\n",
      "  Using cached zipp-3.21.0-py3-none-any.whl.metadata (3.7 kB)\n",
      "Collecting mdurl~=0.1 (from markdown-it-py>=2.2.0->rich>=12.0.0->twine)\n",
      "  Downloading mdurl-0.1.2-py3-none-any.whl.metadata (1.6 kB)\n",
      "Collecting more-itertools (from jaraco.classes->keyring>=15.1->twine)\n",
      "  Downloading more_itertools-10.6.0-py3-none-any.whl.metadata (37 kB)\n",
      "Collecting backports.tarfile (from jaraco.context->keyring>=15.1->twine)\n",
      "  Downloading backports.tarfile-1.2.0-py3-none-any.whl.metadata (2.0 kB)\n",
      "Downloading twine-6.1.0-py3-none-any.whl (40 kB)\n",
      "   ---------------------------------------- 0.0/40.8 kB ? eta -:--:--\n",
      "   ---------------------------------------- 40.8/40.8 kB 2.0 MB/s eta 0:00:00\n",
      "Downloading keyring-25.6.0-py3-none-any.whl (39 kB)\n",
      "Downloading readme_renderer-44.0-py3-none-any.whl (13 kB)\n",
      "Using cached requests-2.32.3-py3-none-any.whl (64 kB)\n",
      "Downloading requests_toolbelt-1.0.0-py2.py3-none-any.whl (54 kB)\n",
      "   ---------------------------------------- 0.0/54.5 kB ? eta -:--:--\n",
      "   ---------------------------------------- 54.5/54.5 kB 2.8 MB/s eta 0:00:00\n",
      "Downloading rfc3986-2.0.0-py2.py3-none-any.whl (31 kB)\n",
      "Downloading rich-13.9.4-py3-none-any.whl (242 kB)\n",
      "   ---------------------------------------- 0.0/242.4 kB ? eta -:--:--\n",
      "   ---------------- ----------------------- 102.4/242.4 kB 5.8 MB/s eta 0:00:01\n",
      "   ---------------------------------------- 242.4/242.4 kB 4.9 MB/s eta 0:00:00\n",
      "Using cached urllib3-2.3.0-py3-none-any.whl (128 kB)\n",
      "Downloading id-1.5.0-py3-none-any.whl (13 kB)\n",
      "Using cached certifi-2025.1.31-py3-none-any.whl (166 kB)\n",
      "Downloading charset_normalizer-3.4.1-cp311-cp311-win_amd64.whl (102 kB)\n",
      "   ---------------------------------------- 0.0/102.4 kB ? eta -:--:--\n",
      "   ---------------------------------------- 102.4/102.4 kB ? eta 0:00:00\n",
      "Downloading docutils-0.21.2-py3-none-any.whl (587 kB)\n",
      "   ---------------------------------------- 0.0/587.4 kB ? eta -:--:--\n",
      "   --------------------- ------------------ 317.4/587.4 kB 9.9 MB/s eta 0:00:01\n",
      "   --------------------------------------- 587.4/587.4 kB 12.5 MB/s eta 0:00:00\n",
      "Using cached idna-3.10-py3-none-any.whl (70 kB)\n",
      "Using cached importlib_metadata-8.6.1-py3-none-any.whl (26 kB)\n",
      "Downloading markdown_it_py-3.0.0-py3-none-any.whl (87 kB)\n",
      "   ---------------------------------------- 0.0/87.5 kB ? eta -:--:--\n",
      "   ---------------------------------------- 87.5/87.5 kB ? eta 0:00:00\n",
      "Downloading nh3-0.2.20-cp38-abi3-win_amd64.whl (541 kB)\n",
      "   ---------------------------------------- 0.0/541.2 kB ? eta -:--:--\n",
      "   --------------------------------------- 541.2/541.2 kB 17.1 MB/s eta 0:00:00\n",
      "Downloading pygments-2.19.1-py3-none-any.whl (1.2 MB)\n",
      "   ---------------------------------------- 0.0/1.2 MB ? eta -:--:--\n",
      "   ------------------------------------ --- 1.1/1.2 MB 34.2 MB/s eta 0:00:01\n",
      "   ---------------------------------------- 1.2/1.2 MB 25.9 MB/s eta 0:00:00\n",
      "Downloading pywin32_ctypes-0.2.3-py3-none-any.whl (30 kB)\n",
      "Downloading jaraco.classes-3.4.0-py3-none-any.whl (6.8 kB)\n",
      "Downloading jaraco.context-6.0.1-py3-none-any.whl (6.8 kB)\n",
      "Downloading jaraco.functools-4.1.0-py3-none-any.whl (10 kB)\n",
      "Downloading mdurl-0.1.2-py3-none-any.whl (10.0 kB)\n",
      "Using cached zipp-3.21.0-py3-none-any.whl (9.6 kB)\n",
      "Downloading backports.tarfile-1.2.0-py3-none-any.whl (30 kB)\n",
      "Downloading more_itertools-10.6.0-py3-none-any.whl (63 kB)\n",
      "   ---------------------------------------- 0.0/63.0 kB ? eta -:--:--\n",
      "   ---------------------------------------- 63.0/63.0 kB ? eta 0:00:00\n",
      "Installing collected packages: zipp, urllib3, rfc3986, pywin32-ctypes, Pygments, nh3, more-itertools, mdurl, idna, docutils, charset-normalizer, certifi, backports.tarfile, requests, readme-renderer, markdown-it-py, jaraco.functools, jaraco.context, jaraco.classes, importlib_metadata, rich, requests-toolbelt, keyring, id, twine\n",
      "Successfully installed Pygments-2.19.1 backports.tarfile-1.2.0 certifi-2025.1.31 charset-normalizer-3.4.1 docutils-0.21.2 id-1.5.0 idna-3.10 importlib_metadata-8.6.1 jaraco.classes-3.4.0 jaraco.context-6.0.1 jaraco.functools-4.1.0 keyring-25.6.0 markdown-it-py-3.0.0 mdurl-0.1.2 more-itertools-10.6.0 nh3-0.2.20 pywin32-ctypes-0.2.3 readme-renderer-44.0 requests-2.32.3 requests-toolbelt-1.0.0 rfc3986-2.0.0 rich-13.9.4 twine-6.1.0 urllib3-2.3.0 zipp-3.21.0\n"
     ]
    },
    {
     "name": "stderr",
     "output_type": "stream",
     "text": [
      "  WARNING: The script pygmentize.exe is installed in 'C:\\Users\\ris20\\AppData\\Local\\Packages\\PythonSoftwareFoundation.Python.3.11_qbz5n2kfra8p0\\LocalCache\\local-packages\\Python311\\Scripts' which is not on PATH.\n",
      "  Consider adding this directory to PATH or, if you prefer to suppress this warning, use --no-warn-script-location.\n",
      "  WARNING: The scripts docutils.exe, rst2html.exe, rst2html4.exe, rst2html5.exe, rst2latex.exe, rst2man.exe, rst2odt.exe, rst2pseudoxml.exe, rst2s5.exe, rst2xetex.exe and rst2xml.exe are installed in 'C:\\Users\\ris20\\AppData\\Local\\Packages\\PythonSoftwareFoundation.Python.3.11_qbz5n2kfra8p0\\LocalCache\\local-packages\\Python311\\Scripts' which is not on PATH.\n",
      "  Consider adding this directory to PATH or, if you prefer to suppress this warning, use --no-warn-script-location.\n",
      "  WARNING: The script normalizer.exe is installed in 'C:\\Users\\ris20\\AppData\\Local\\Packages\\PythonSoftwareFoundation.Python.3.11_qbz5n2kfra8p0\\LocalCache\\local-packages\\Python311\\Scripts' which is not on PATH.\n",
      "  Consider adding this directory to PATH or, if you prefer to suppress this warning, use --no-warn-script-location.\n",
      "  WARNING: The script markdown-it.exe is installed in 'C:\\Users\\ris20\\AppData\\Local\\Packages\\PythonSoftwareFoundation.Python.3.11_qbz5n2kfra8p0\\LocalCache\\local-packages\\Python311\\Scripts' which is not on PATH.\n",
      "  Consider adding this directory to PATH or, if you prefer to suppress this warning, use --no-warn-script-location.\n",
      "  WARNING: The script keyring.exe is installed in 'C:\\Users\\ris20\\AppData\\Local\\Packages\\PythonSoftwareFoundation.Python.3.11_qbz5n2kfra8p0\\LocalCache\\local-packages\\Python311\\Scripts' which is not on PATH.\n",
      "  Consider adding this directory to PATH or, if you prefer to suppress this warning, use --no-warn-script-location.\n",
      "  WARNING: The script twine.exe is installed in 'C:\\Users\\ris20\\AppData\\Local\\Packages\\PythonSoftwareFoundation.Python.3.11_qbz5n2kfra8p0\\LocalCache\\local-packages\\Python311\\Scripts' which is not on PATH.\n",
      "  Consider adding this directory to PATH or, if you prefer to suppress this warning, use --no-warn-script-location.\n",
      "\n",
      "[notice] A new release of pip is available: 24.0 -> 25.0\n",
      "[notice] To update, run: C:\\Users\\ris20\\AppData\\Local\\Microsoft\\WindowsApps\\PythonSoftwareFoundation.Python.3.11_qbz5n2kfra8p0\\python.exe -m pip install --upgrade pip\n"
     ]
    }
   ],
   "source": [
    "!python3 -m pip install --upgrade twine\n"
   ]
  },
  {
   "cell_type": "code",
   "execution_count": null,
   "metadata": {},
   "outputs": [],
   "source": []
  }
 ],
 "metadata": {
  "kernelspec": {
   "display_name": "Python 3",
   "language": "python",
   "name": "python3"
  },
  "language_info": {
   "codemirror_mode": {
    "name": "ipython",
    "version": 3
   },
   "file_extension": ".py",
   "mimetype": "text/x-python",
   "name": "python",
   "nbconvert_exporter": "python",
   "pygments_lexer": "ipython3",
   "version": "3.12.2"
  },
  "orig_nbformat": 4,
  "vscode": {
   "interpreter": {
    "hash": "916dbcbb3f70747c44a77c7bcd40155683ae19c65e1c03b4aa3499c5328201f1"
   }
  }
 },
 "nbformat": 4,
 "nbformat_minor": 2
}
